{
 "cells": [
  {
   "cell_type": "code",
   "execution_count": 51,
   "metadata": {
    "execution": {
     "iopub.execute_input": "2020-11-29T19:22:47.536792Z",
     "iopub.status.busy": "2020-11-29T19:22:47.536792Z",
     "iopub.status.idle": "2020-11-29T19:22:47.544760Z",
     "shell.execute_reply": "2020-11-29T19:22:47.543763Z",
     "shell.execute_reply.started": "2020-11-29T19:22:47.536792Z"
    }
   },
   "outputs": [],
   "source": [
    "# Dependencies\n",
    "import numpy as np\n",
    "import pandas as pd\n",
    "import datetime as dt\n",
    "\n",
    "# Python SQL toolkit and Object Relational Mapper\n",
    "import sqlalchemy\n",
    "from sqlalchemy.ext.automap import automap_base\n",
    "from sqlalchemy.orm import Session\n",
    "from sqlalchemy import create_engine, func"
   ]
  },
  {
   "cell_type": "code",
   "execution_count": 3,
   "metadata": {
    "execution": {
     "iopub.execute_input": "2020-11-29T18:43:33.930916Z",
     "iopub.status.busy": "2020-11-29T18:43:33.930916Z",
     "iopub.status.idle": "2020-11-29T18:43:33.974796Z",
     "shell.execute_reply": "2020-11-29T18:43:33.973799Z",
     "shell.execute_reply.started": "2020-11-29T18:43:33.930916Z"
    }
   },
   "outputs": [],
   "source": [
    "engine = create_engine(\"sqlite:///hawaii.sqlite\")\n",
    "\n",
    "# reflect an existing database into a new model\n",
    "Base = automap_base()\n",
    "# reflect the tables\n",
    "Base.prepare(engine, reflect=True)\n",
    "\n",
    "# Save references to each table\n",
    "Measurement = Base.classes.measurement\n",
    "Station = Base.classes.station"
   ]
  },
  {
   "cell_type": "code",
   "execution_count": 4,
   "metadata": {
    "execution": {
     "iopub.execute_input": "2020-11-29T18:43:35.355154Z",
     "iopub.status.busy": "2020-11-29T18:43:35.355154Z",
     "iopub.status.idle": "2020-11-29T18:43:35.360141Z",
     "shell.execute_reply": "2020-11-29T18:43:35.360141Z",
     "shell.execute_reply.started": "2020-11-29T18:43:35.355154Z"
    }
   },
   "outputs": [],
   "source": [
    "# Create our session (link) from Python to the DB\n",
    "session = Session(engine)"
   ]
  },
  {
   "cell_type": "markdown",
   "metadata": {},
   "source": [
    "## D1: Determine the Summary Statistics for June"
   ]
  },
  {
   "cell_type": "code",
   "execution_count": 132,
   "metadata": {
    "execution": {
     "iopub.execute_input": "2020-11-29T20:13:49.421001Z",
     "iopub.status.busy": "2020-11-29T20:13:49.421001Z",
     "iopub.status.idle": "2020-11-29T20:13:49.446931Z",
     "shell.execute_reply": "2020-11-29T20:13:49.445933Z",
     "shell.execute_reply.started": "2020-11-29T20:13:49.421001Z"
    }
   },
   "outputs": [
    {
     "data": {
      "text/plain": [
       "[(78.0), (76.0), (78.0), (76.0), (77.0)]"
      ]
     },
     "execution_count": 132,
     "metadata": {},
     "output_type": "execute_result"
    }
   ],
   "source": [
    "# 1. Import the sqlalchemy extract function.\n",
    "from sqlalchemy import extract\n",
    "\n",
    "# 2. Write a query that filters the Measurement table to retrieve the temperatures for the month of June. \n",
    "june_observations = session.query(Measurement.tobs).filter(Measurement.date.contains('-06-')).all()\n",
    "june_observations[0:5]"
   ]
  },
  {
   "cell_type": "code",
   "execution_count": 135,
   "metadata": {
    "execution": {
     "iopub.execute_input": "2020-11-29T20:14:32.082962Z",
     "iopub.status.busy": "2020-11-29T20:14:32.081963Z",
     "iopub.status.idle": "2020-11-29T20:14:32.089941Z",
     "shell.execute_reply": "2020-11-29T20:14:32.089941Z",
     "shell.execute_reply.started": "2020-11-29T20:14:32.082962Z"
    }
   },
   "outputs": [
    {
     "data": {
      "text/plain": [
       "[78.0, 76.0, 78.0, 76.0, 77.0]"
      ]
     },
     "execution_count": 135,
     "metadata": {},
     "output_type": "execute_result"
    },
    {
     "data": {
      "text/plain": [
       "list"
      ]
     },
     "execution_count": 135,
     "metadata": {},
     "output_type": "execute_result"
    }
   ],
   "source": [
    "# 3. Convert the June temperatures to a list.\n",
    "june_temps = [temp[0] for temp in june_observations]\n",
    "june_temps[0:5]\n",
    "type(june_temps)"
   ]
  },
  {
   "cell_type": "code",
   "execution_count": 141,
   "metadata": {
    "execution": {
     "iopub.execute_input": "2020-11-29T20:15:45.048571Z",
     "iopub.status.busy": "2020-11-29T20:15:45.047578Z",
     "iopub.status.idle": "2020-11-29T20:15:45.056551Z",
     "shell.execute_reply": "2020-11-29T20:15:45.056551Z",
     "shell.execute_reply.started": "2020-11-29T20:15:45.047578Z"
    }
   },
   "outputs": [
    {
     "data": {
      "text/html": [
       "<div>\n",
       "<style scoped>\n",
       "    .dataframe tbody tr th:only-of-type {\n",
       "        vertical-align: middle;\n",
       "    }\n",
       "\n",
       "    .dataframe tbody tr th {\n",
       "        vertical-align: top;\n",
       "    }\n",
       "\n",
       "    .dataframe thead th {\n",
       "        text-align: right;\n",
       "    }\n",
       "</style>\n",
       "<table border=\"1\" class=\"dataframe\">\n",
       "  <thead>\n",
       "    <tr style=\"text-align: right;\">\n",
       "      <th></th>\n",
       "      <th>June Temps</th>\n",
       "    </tr>\n",
       "  </thead>\n",
       "  <tbody>\n",
       "    <tr>\n",
       "      <th>0</th>\n",
       "      <td>78.0</td>\n",
       "    </tr>\n",
       "    <tr>\n",
       "      <th>1</th>\n",
       "      <td>76.0</td>\n",
       "    </tr>\n",
       "    <tr>\n",
       "      <th>2</th>\n",
       "      <td>78.0</td>\n",
       "    </tr>\n",
       "    <tr>\n",
       "      <th>3</th>\n",
       "      <td>76.0</td>\n",
       "    </tr>\n",
       "    <tr>\n",
       "      <th>4</th>\n",
       "      <td>77.0</td>\n",
       "    </tr>\n",
       "  </tbody>\n",
       "</table>\n",
       "</div>"
      ],
      "text/plain": [
       "   June Temps\n",
       "0        78.0\n",
       "1        76.0\n",
       "2        78.0\n",
       "3        76.0\n",
       "4        77.0"
      ]
     },
     "execution_count": 141,
     "metadata": {},
     "output_type": "execute_result"
    }
   ],
   "source": [
    "# 4. Create a DataFrame from the list of temperatures for the month of June. \n",
    "june_df = pd.DataFrame(june_temps, columns=['June Temps'])\n",
    "june_df.head()"
   ]
  },
  {
   "cell_type": "code",
   "execution_count": 142,
   "metadata": {
    "execution": {
     "iopub.execute_input": "2020-11-29T20:15:50.384786Z",
     "iopub.status.busy": "2020-11-29T20:15:50.384786Z",
     "iopub.status.idle": "2020-11-29T20:15:50.397748Z",
     "shell.execute_reply": "2020-11-29T20:15:50.397748Z",
     "shell.execute_reply.started": "2020-11-29T20:15:50.384786Z"
    }
   },
   "outputs": [
    {
     "data": {
      "text/html": [
       "<div>\n",
       "<style scoped>\n",
       "    .dataframe tbody tr th:only-of-type {\n",
       "        vertical-align: middle;\n",
       "    }\n",
       "\n",
       "    .dataframe tbody tr th {\n",
       "        vertical-align: top;\n",
       "    }\n",
       "\n",
       "    .dataframe thead th {\n",
       "        text-align: right;\n",
       "    }\n",
       "</style>\n",
       "<table border=\"1\" class=\"dataframe\">\n",
       "  <thead>\n",
       "    <tr style=\"text-align: right;\">\n",
       "      <th></th>\n",
       "      <th>June Temps</th>\n",
       "    </tr>\n",
       "  </thead>\n",
       "  <tbody>\n",
       "    <tr>\n",
       "      <th>count</th>\n",
       "      <td>1700.000000</td>\n",
       "    </tr>\n",
       "    <tr>\n",
       "      <th>mean</th>\n",
       "      <td>74.944118</td>\n",
       "    </tr>\n",
       "    <tr>\n",
       "      <th>std</th>\n",
       "      <td>3.257417</td>\n",
       "    </tr>\n",
       "    <tr>\n",
       "      <th>min</th>\n",
       "      <td>64.000000</td>\n",
       "    </tr>\n",
       "    <tr>\n",
       "      <th>25%</th>\n",
       "      <td>73.000000</td>\n",
       "    </tr>\n",
       "    <tr>\n",
       "      <th>50%</th>\n",
       "      <td>75.000000</td>\n",
       "    </tr>\n",
       "    <tr>\n",
       "      <th>75%</th>\n",
       "      <td>77.000000</td>\n",
       "    </tr>\n",
       "    <tr>\n",
       "      <th>max</th>\n",
       "      <td>85.000000</td>\n",
       "    </tr>\n",
       "  </tbody>\n",
       "</table>\n",
       "</div>"
      ],
      "text/plain": [
       "        June Temps\n",
       "count  1700.000000\n",
       "mean     74.944118\n",
       "std       3.257417\n",
       "min      64.000000\n",
       "25%      73.000000\n",
       "50%      75.000000\n",
       "75%      77.000000\n",
       "max      85.000000"
      ]
     },
     "execution_count": 142,
     "metadata": {},
     "output_type": "execute_result"
    }
   ],
   "source": [
    "# 5. Calculate and print out the summary statistics for the June temperature DataFrame.\n",
    "june_df.describe()"
   ]
  },
  {
   "cell_type": "markdown",
   "metadata": {},
   "source": [
    "## D2: Determine the Summary Statistics for December"
   ]
  },
  {
   "cell_type": "code",
   "execution_count": 127,
   "metadata": {
    "execution": {
     "iopub.execute_input": "2020-11-29T20:11:07.443511Z",
     "iopub.status.busy": "2020-11-29T20:11:07.443511Z",
     "iopub.status.idle": "2020-11-29T20:11:07.461508Z",
     "shell.execute_reply": "2020-11-29T20:11:07.461508Z",
     "shell.execute_reply.started": "2020-11-29T20:11:07.443511Z"
    }
   },
   "outputs": [
    {
     "data": {
      "text/plain": [
       "[(76.0, '2010-12-01'),\n",
       " (74.0, '2010-12-03'),\n",
       " (74.0, '2010-12-04'),\n",
       " (64.0, '2010-12-06'),\n",
       " (64.0, '2010-12-07')]"
      ]
     },
     "execution_count": 127,
     "metadata": {},
     "output_type": "execute_result"
    }
   ],
   "source": [
    "# 6. Write a query that filters the Measurement table to retrieve the temperatures for the month of December.\n",
    "dec_observations = session.query(Measurement.tobs, Measurement.date).filter(Measurement.date.contains('-12-')).all()\n",
    "dec_observations[0:5]"
   ]
  },
  {
   "cell_type": "code",
   "execution_count": 131,
   "metadata": {
    "execution": {
     "iopub.execute_input": "2020-11-29T20:13:16.594253Z",
     "iopub.status.busy": "2020-11-29T20:13:16.594253Z",
     "iopub.status.idle": "2020-11-29T20:13:16.601268Z",
     "shell.execute_reply": "2020-11-29T20:13:16.601268Z",
     "shell.execute_reply.started": "2020-11-29T20:13:16.594253Z"
    }
   },
   "outputs": [
    {
     "data": {
      "text/plain": [
       "[76.0, 74.0, 74.0, 64.0, 64.0]"
      ]
     },
     "execution_count": 131,
     "metadata": {},
     "output_type": "execute_result"
    },
    {
     "data": {
      "text/plain": [
       "list"
      ]
     },
     "execution_count": 131,
     "metadata": {},
     "output_type": "execute_result"
    }
   ],
   "source": [
    "# 7. Convert the December temperatures to a list.\n",
    "dec_temps = [temp[0] for temp in dec_observations]\n",
    "dec_temps[0:5]\n",
    "type(dec_temps)"
   ]
  },
  {
   "cell_type": "code",
   "execution_count": 143,
   "metadata": {
    "execution": {
     "iopub.execute_input": "2020-11-29T20:16:20.471938Z",
     "iopub.status.busy": "2020-11-29T20:16:20.470950Z",
     "iopub.status.idle": "2020-11-29T20:16:20.483905Z",
     "shell.execute_reply": "2020-11-29T20:16:20.482908Z",
     "shell.execute_reply.started": "2020-11-29T20:16:20.471938Z"
    }
   },
   "outputs": [
    {
     "data": {
      "text/html": [
       "<div>\n",
       "<style scoped>\n",
       "    .dataframe tbody tr th:only-of-type {\n",
       "        vertical-align: middle;\n",
       "    }\n",
       "\n",
       "    .dataframe tbody tr th {\n",
       "        vertical-align: top;\n",
       "    }\n",
       "\n",
       "    .dataframe thead th {\n",
       "        text-align: right;\n",
       "    }\n",
       "</style>\n",
       "<table border=\"1\" class=\"dataframe\">\n",
       "  <thead>\n",
       "    <tr style=\"text-align: right;\">\n",
       "      <th></th>\n",
       "      <th>December Temps</th>\n",
       "    </tr>\n",
       "  </thead>\n",
       "  <tbody>\n",
       "    <tr>\n",
       "      <th>0</th>\n",
       "      <td>76.0</td>\n",
       "    </tr>\n",
       "    <tr>\n",
       "      <th>1</th>\n",
       "      <td>74.0</td>\n",
       "    </tr>\n",
       "    <tr>\n",
       "      <th>2</th>\n",
       "      <td>74.0</td>\n",
       "    </tr>\n",
       "    <tr>\n",
       "      <th>3</th>\n",
       "      <td>64.0</td>\n",
       "    </tr>\n",
       "    <tr>\n",
       "      <th>4</th>\n",
       "      <td>64.0</td>\n",
       "    </tr>\n",
       "  </tbody>\n",
       "</table>\n",
       "</div>"
      ],
      "text/plain": [
       "   December Temps\n",
       "0            76.0\n",
       "1            74.0\n",
       "2            74.0\n",
       "3            64.0\n",
       "4            64.0"
      ]
     },
     "execution_count": 143,
     "metadata": {},
     "output_type": "execute_result"
    }
   ],
   "source": [
    "# 8. Create a DataFrame from the list of temperatures for the month of December. \n",
    "dec_df = pd.DataFrame(dec_temps, columns=['December Temps'])\n",
    "dec_df.head()"
   ]
  },
  {
   "cell_type": "code",
   "execution_count": 144,
   "metadata": {
    "execution": {
     "iopub.execute_input": "2020-11-29T20:16:27.502838Z",
     "iopub.status.busy": "2020-11-29T20:16:27.502838Z",
     "iopub.status.idle": "2020-11-29T20:16:27.515806Z",
     "shell.execute_reply": "2020-11-29T20:16:27.515806Z",
     "shell.execute_reply.started": "2020-11-29T20:16:27.502838Z"
    }
   },
   "outputs": [
    {
     "data": {
      "text/html": [
       "<div>\n",
       "<style scoped>\n",
       "    .dataframe tbody tr th:only-of-type {\n",
       "        vertical-align: middle;\n",
       "    }\n",
       "\n",
       "    .dataframe tbody tr th {\n",
       "        vertical-align: top;\n",
       "    }\n",
       "\n",
       "    .dataframe thead th {\n",
       "        text-align: right;\n",
       "    }\n",
       "</style>\n",
       "<table border=\"1\" class=\"dataframe\">\n",
       "  <thead>\n",
       "    <tr style=\"text-align: right;\">\n",
       "      <th></th>\n",
       "      <th>December Temps</th>\n",
       "    </tr>\n",
       "  </thead>\n",
       "  <tbody>\n",
       "    <tr>\n",
       "      <th>count</th>\n",
       "      <td>1517.000000</td>\n",
       "    </tr>\n",
       "    <tr>\n",
       "      <th>mean</th>\n",
       "      <td>71.041529</td>\n",
       "    </tr>\n",
       "    <tr>\n",
       "      <th>std</th>\n",
       "      <td>3.745920</td>\n",
       "    </tr>\n",
       "    <tr>\n",
       "      <th>min</th>\n",
       "      <td>56.000000</td>\n",
       "    </tr>\n",
       "    <tr>\n",
       "      <th>25%</th>\n",
       "      <td>69.000000</td>\n",
       "    </tr>\n",
       "    <tr>\n",
       "      <th>50%</th>\n",
       "      <td>71.000000</td>\n",
       "    </tr>\n",
       "    <tr>\n",
       "      <th>75%</th>\n",
       "      <td>74.000000</td>\n",
       "    </tr>\n",
       "    <tr>\n",
       "      <th>max</th>\n",
       "      <td>83.000000</td>\n",
       "    </tr>\n",
       "  </tbody>\n",
       "</table>\n",
       "</div>"
      ],
      "text/plain": [
       "       December Temps\n",
       "count     1517.000000\n",
       "mean        71.041529\n",
       "std          3.745920\n",
       "min         56.000000\n",
       "25%         69.000000\n",
       "50%         71.000000\n",
       "75%         74.000000\n",
       "max         83.000000"
      ]
     },
     "execution_count": 144,
     "metadata": {},
     "output_type": "execute_result"
    }
   ],
   "source": [
    "# 9. Calculate and print out the summary statistics for the Decemeber temperature DataFrame.\n",
    "dec_df.describe()"
   ]
  },
  {
   "cell_type": "markdown",
   "metadata": {
    "execution": {
     "iopub.execute_input": "2020-12-02T02:07:19.934219Z",
     "iopub.status.busy": "2020-12-02T02:07:19.933254Z",
     "iopub.status.idle": "2020-12-02T02:07:19.944775Z",
     "shell.execute_reply": "2020-12-02T02:07:19.942812Z",
     "shell.execute_reply.started": "2020-12-02T02:07:19.933254Z"
    }
   },
   "source": [
    "-------"
   ]
  },
  {
   "cell_type": "markdown",
   "metadata": {
    "execution": {
     "iopub.execute_input": "2020-12-02T02:56:37.645266Z",
     "iopub.status.busy": "2020-12-02T02:56:37.644267Z",
     "iopub.status.idle": "2020-12-02T02:56:37.650249Z",
     "shell.execute_reply": "2020-12-02T02:56:37.649254Z",
     "shell.execute_reply.started": "2020-12-02T02:56:37.645266Z"
    }
   },
   "source": [
